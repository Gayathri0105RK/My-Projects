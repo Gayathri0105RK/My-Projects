{
 "cells": [
  {
   "cell_type": "markdown",
   "id": "0f638d95-5da1-4bfd-9e4c-d368823adf24",
   "metadata": {},
   "source": [
    "BMI CALCULATOR"
   ]
  },
  {
   "cell_type": "code",
   "execution_count": null,
   "id": "b3bfb2ae-10ad-4a31-a02e-52817ad6a5b7",
   "metadata": {},
   "outputs": [],
   "source": [
    "name = input('Enter your name:')\n",
    "age = int(input('Enter age:'))\n",
    "             \n",
    "weight = float(input('Enter you weight in kg: '))\n",
    "height = float(input('Enter you height in cm: '))\n",
    "\n",
    "BMI = weight / (height/100)**2\n",
    "\n",
    "print(\"BMI Is:\",BMI)\n",
    "\n",
    "if BMI <18.5:\n",
    "    print(\"Underweight\")\n",
    "elif BMI <= 24.9:\n",
    "    print(\"Normal weight\")\n",
    "elif BMI <= 29.9:\n",
    "    print(\"Overweight\")\n",
    "elif BMI <= 34.9:\n",
    "    print(\"Obese\")\n",
    "elif BMI <= 39.9:\n",
    "    print(\"Extrememly Obese\")\n",
    "else:\n",
    "    print(\"Morbidly Obese\")"
   ]
  }
 ],
 "metadata": {
  "kernelspec": {
   "display_name": "Python 3 (ipykernel)",
   "language": "python",
   "name": "python3"
  },
  "language_info": {
   "codemirror_mode": {
    "name": "ipython",
    "version": 3
   },
   "file_extension": ".py",
   "mimetype": "text/x-python",
   "name": "python",
   "nbconvert_exporter": "python",
   "pygments_lexer": "ipython3",
   "version": "3.12.2"
  }
 },
 "nbformat": 4,
 "nbformat_minor": 5
}
