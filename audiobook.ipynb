{
 "cells": [
  {
   "cell_type": "code",
   "execution_count": null,
   "id": "c8f061fa-dc2f-4af8-a740-aea0d565ecfd",
   "metadata": {},
   "outputs": [],
   "source": [
    "import PyPDF2\n",
    "import pyttsx3\n",
    "\n",
    "book = open(r\"C:\\Users\\Gayathri\\Desktop\\Great learning\\DA_CURRICULUM_GUIDE.pdf\", \"rb\")\n",
    "\n",
    "pdfreader = PyPDF2.PdfReader(book)\n",
    "\n",
    "pages = len(pdfreader.pages)\n",
    "print(\"Number of pages:\", pages)\n",
    "\n",
    "speaker = pyttsx3.init()\n",
    "\n",
    "for num in range(pages):\n",
    "    page = pdfreader.pages[num]\n",
    "    text = page.extract_text()\n",
    "    speaker.say(text)\n",
    "    speaker.runAndWait()\n",
    "\n",
    "book.close()\n"
   ]
  }
 ],
 "metadata": {
  "kernelspec": {
   "display_name": "Python 3 (ipykernel)",
   "language": "python",
   "name": "python3"
  },
  "language_info": {
   "codemirror_mode": {
    "name": "ipython",
    "version": 3
   },
   "file_extension": ".py",
   "mimetype": "text/x-python",
   "name": "python",
   "nbconvert_exporter": "python",
   "pygments_lexer": "ipython3",
   "version": "3.12.2"
  }
 },
 "nbformat": 4,
 "nbformat_minor": 5
}
